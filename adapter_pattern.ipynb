{
 "cells": [
  {
   "cell_type": "markdown",
   "id": "2cb85cfc",
   "metadata": {},
   "source": [
    "### Adapter Pattern"
   ]
  },
  {
   "cell_type": "markdown",
   "id": "4b3d3a36",
   "metadata": {},
   "source": [
    "<b> Before adapter pattern </b>"
   ]
  },
  {
   "cell_type": "code",
   "execution_count": 5,
   "id": "a464c3df",
   "metadata": {},
   "outputs": [
    {
     "name": "stdout",
     "output_type": "stream",
     "text": [
      "making paypal payment of 1000...\n"
     ]
    }
   ],
   "source": [
    "class PaypalPayment:\n",
    "\n",
    "    def paypal_payment(self, amount):\n",
    "        print(f'making paypal payment of {amount}...')\n",
    "\n",
    "payment = PaypalPayment()\n",
    "payment.paypal_payment(1000)"
   ]
  },
  {
   "cell_type": "code",
   "execution_count": 6,
   "id": "96b038a7",
   "metadata": {},
   "outputs": [],
   "source": [
    "class StripePayment:\n",
    "\n",
    "    def stripe_payment(self, amount):\n",
    "        print(f'making stripe payment of {amount}...')"
   ]
  },
  {
   "cell_type": "markdown",
   "id": "06a76770",
   "metadata": {},
   "source": [
    "<b> After adapter pattern </b>"
   ]
  },
  {
   "cell_type": "code",
   "execution_count": 8,
   "id": "5c602cdf",
   "metadata": {},
   "outputs": [
    {
     "name": "stdout",
     "output_type": "stream",
     "text": [
      "Initiating checkout...\n",
      "[PayPal SDK] Paid 100 using PayPal.\n",
      "Checkout completed.\n",
      "\n",
      "Initiating checkout...\n",
      "[Stripe SDK] Paid 200 using Stripe.\n",
      "Checkout completed.\n",
      "\n"
     ]
    }
   ],
   "source": [
    "from abc import ABC, abstractmethod\n",
    "\n",
    "# --------------------------\n",
    "# Simulated third-party SDKs\n",
    "# --------------------------\n",
    "\n",
    "class PayPalSDK:\n",
    "    def paypal_payment(self, amount: float):\n",
    "        print(f\"[PayPal SDK] Paid {amount} using PayPal.\")\n",
    "\n",
    "\n",
    "class StripeSDK:\n",
    "    def stripe_payment(self, amount: float):\n",
    "        print(f\"[Stripe SDK] Paid {amount} using Stripe.\")\n",
    "\n",
    "\n",
    "# --------------------------\n",
    "# Our Adapter Interface\n",
    "# --------------------------\n",
    "\n",
    "class PaymentAdapter(ABC):\n",
    "    @abstractmethod\n",
    "    def make_payment(self, amount: float):\n",
    "        pass\n",
    "\n",
    "\n",
    "# --------------------------\n",
    "# Concrete Adapters\n",
    "# --------------------------\n",
    "\n",
    "class PayPalAdapter(PaymentAdapter):\n",
    "    def __init__(self, sdk: PayPalSDK):\n",
    "        self.sdk = sdk\n",
    "\n",
    "    def make_payment(self, amount: float):\n",
    "        # Translate our \"make_payment\" into the SDK call\n",
    "        self.sdk.paypal_payment(amount)\n",
    "\n",
    "\n",
    "class StripeAdapter(PaymentAdapter):\n",
    "    def __init__(self, sdk: StripeSDK):\n",
    "        self.sdk = sdk\n",
    "\n",
    "    def make_payment(self, amount: float):\n",
    "        # Translate our \"make_payment\" into the SDK call\n",
    "        self.sdk.stripe_payment(amount)\n",
    "\n",
    "\n",
    "# --------------------------\n",
    "# Client Code (Business Logic)\n",
    "# --------------------------\n",
    "\n",
    "def checkout(payment_adapter: PaymentAdapter, amount: float):\n",
    "    \"\"\"Business logic works only with PaymentAdapter, not SDKs.\"\"\"\n",
    "    print(\"Initiating checkout...\")\n",
    "    payment_adapter.make_payment(amount)\n",
    "    print(\"Checkout completed.\\n\")\n",
    "\n",
    "\n",
    "# --------------------------\n",
    "# Usage\n",
    "# --------------------------\n",
    "\n",
    "if __name__ == \"__main__\":\n",
    "    # PayPal flow\n",
    "    paypal_sdk = PayPalSDK()\n",
    "    paypal = PayPalAdapter(paypal_sdk)\n",
    "    checkout(paypal, 100)\n",
    "\n",
    "    # Stripe flow\n",
    "    stripe_sdk = StripeSDK()\n",
    "    stripe = StripeAdapter(stripe_sdk)\n",
    "    checkout(stripe, 200)\n"
   ]
  }
 ],
 "metadata": {
  "kernelspec": {
   "display_name": "base",
   "language": "python",
   "name": "python3"
  },
  "language_info": {
   "codemirror_mode": {
    "name": "ipython",
    "version": 3
   },
   "file_extension": ".py",
   "mimetype": "text/x-python",
   "name": "python",
   "nbconvert_exporter": "python",
   "pygments_lexer": "ipython3",
   "version": "3.12.4"
  }
 },
 "nbformat": 4,
 "nbformat_minor": 5
}
