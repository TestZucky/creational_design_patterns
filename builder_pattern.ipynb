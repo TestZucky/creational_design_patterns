{
 "cells": [
  {
   "cell_type": "markdown",
   "id": "2bad77be",
   "metadata": {},
   "source": [
    "#### Before builder pattern\n"
   ]
  },
  {
   "cell_type": "code",
   "execution_count": 28,
   "id": "aa9d0371",
   "metadata": {},
   "outputs": [
    {
     "name": "stdout",
     "output_type": "stream",
     "text": [
      "Admin(username=admin123, email=admin@example.com, name=None None, age=30, phone=None, address=Office HQ)\n"
     ]
    }
   ],
   "source": [
    "class User:\n",
    "    def __init__(self, username, email, first_name=None, last_name=None, age=None, phone=None, address=None, role=\"user\"):\n",
    "        self.username = username\n",
    "        self.email = email\n",
    "        self.first_name = first_name\n",
    "        self.last_name = last_name\n",
    "        self.age = age\n",
    "        self.phone = phone\n",
    "        self.address = address\n",
    "        self.role = role\n",
    "    \n",
    "    def __str__(self):\n",
    "        return (f\"{self.role.title()}(\"\n",
    "                f\"username={self.username}, email={self.email}, \"\n",
    "                f\"name={self.first_name} {self.last_name}, \"\n",
    "                f\"age={self.age}, phone={self.phone}, \"\n",
    "                f\"address={self.address})\")\n",
    "\n",
    "# Creating an admin\n",
    "admin = User(\"admin123\", \"admin@example.com\", None, None, 30, None, \"Office HQ\", \"admin\")\n",
    "\n",
    "print(admin)\n"
   ]
  },
  {
   "cell_type": "markdown",
   "id": "3aa05e51",
   "metadata": {},
   "source": [
    "<b> Problems </b>\n",
    "\n",
    "- Hard to remember all the parameters order\n",
    "- Redability is bad\n",
    "- add / remove of param will break"
   ]
  },
  {
   "cell_type": "markdown",
   "id": "1762b6b1",
   "metadata": {},
   "source": [
    "#### Slightly improved pattern"
   ]
  },
  {
   "cell_type": "code",
   "execution_count": 29,
   "id": "cc987380",
   "metadata": {},
   "outputs": [
    {
     "name": "stdout",
     "output_type": "stream",
     "text": [
      "Admin(username=admin123, email=admin@example.com, name=John Doe, age=30, phone=+91-1234567890, address=Office HQ)\n",
      "User(username=jane45, email=jane@example.com, name=Jane Smith, age=25, phone=None, address=New York)\n"
     ]
    }
   ],
   "source": [
    "class User:\n",
    "    def __init__(self, username, email):\n",
    "        self.username = username\n",
    "        self.email = email\n",
    "        self.first_name = None\n",
    "        self.last_name = None\n",
    "        self.age = None\n",
    "        self.phone = None\n",
    "        self.address = None\n",
    "        self.role = \"user\"\n",
    "\n",
    "    def set_first_name(self, first_name):\n",
    "        self.first_name = first_name\n",
    "\n",
    "    def set_last_name(self, last_name):\n",
    "        self.last_name = last_name\n",
    "\n",
    "    def set_age(self, age):\n",
    "        self.age = age\n",
    "\n",
    "    def set_phone(self, phone):\n",
    "        self.phone = phone\n",
    "\n",
    "    def set_address(self, address):\n",
    "        self.address = address\n",
    "\n",
    "    def set_role(self, role):\n",
    "        self.role = role\n",
    "\n",
    "    def __str__(self):\n",
    "        return (f\"{self.role.title()}(\"\n",
    "                f\"username={self.username}, email={self.email}, \"\n",
    "                f\"name={self.first_name} {self.last_name}, \"\n",
    "                f\"age={self.age}, phone={self.phone}, \"\n",
    "                f\"address={self.address})\")\n",
    "\n",
    "\n",
    "# Create Admin\n",
    "admin = User(\"admin123\", \"admin@example.com\")\n",
    "admin.set_first_name(\"John\")\n",
    "admin.set_last_name(\"Doe\")\n",
    "admin.set_age(30)\n",
    "admin.set_phone(\"+91-1234567890\")\n",
    "admin.set_address(\"Office HQ\")\n",
    "admin.set_role(\"admin\")\n",
    "\n",
    "# Create Customer\n",
    "customer = User(\"jane45\", \"jane@example.com\")\n",
    "customer.set_first_name(\"Jane\")\n",
    "customer.set_last_name(\"Smith\")\n",
    "customer.set_age(25)\n",
    "customer.set_address(\"New York\")\n",
    "\n",
    "print(admin)\n",
    "print(customer)\n"
   ]
  },
  {
   "cell_type": "markdown",
   "id": "8e1ae90d",
   "metadata": {},
   "source": [
    "<b> Problems </b>\n",
    "\n",
    "- Object can exist in incomplete state.\n",
    "- If you forget to call setter it may break later.\n",
    "- not ideal for complex object creation."
   ]
  },
  {
   "cell_type": "markdown",
   "id": "aeb33c1c",
   "metadata": {},
   "source": [
    "#### Builder pattern"
   ]
  },
  {
   "cell_type": "code",
   "execution_count": 30,
   "id": "4cfbcb35",
   "metadata": {},
   "outputs": [],
   "source": [
    "from dataclasses import dataclass\n",
    "\n",
    "@dataclass(frozen=True)\n",
    "class User:\n",
    "    username: str\n",
    "    email: str\n",
    "    first_name: str = None\n",
    "    last_name: str = None\n",
    "    age: int = None\n",
    "    phone: str = None\n",
    "    address: str = None\n",
    "    role: str = \"user\"\n",
    "\n",
    "    def __str__(self):\n",
    "        return (f\"{self.role.title()}(\"\n",
    "                f\"username={self.username}, email={self.email}, \"\n",
    "                f\"name={self.first_name} {self.last_name}, \"\n",
    "                f\"age={self.age}, phone={self.phone}, \"\n",
    "                f\"address={self.address})\")"
   ]
  },
  {
   "cell_type": "code",
   "execution_count": 31,
   "id": "863f58ad",
   "metadata": {},
   "outputs": [],
   "source": [
    "class UserBuilder:\n",
    "    def __init__(self, username, email):\n",
    "        \n",
    "        self.username = username\n",
    "        self.email = email\n",
    "        self.first_name = None\n",
    "        self.last_name = None\n",
    "        self.age = None\n",
    "        self.phone = None\n",
    "        self.address = None\n",
    "        self.role = \"user\"\n",
    "\n",
    "    def set_first_name(self, first_name):\n",
    "        self.first_name = first_name\n",
    "        return self\n",
    "\n",
    "    def set_last_name(self, last_name):\n",
    "        self.last_name = last_name\n",
    "        return self\n",
    "\n",
    "    def set_age(self, age):\n",
    "        self.age = age\n",
    "        return self\n",
    "\n",
    "    def set_phone(self, phone):\n",
    "        self.phone = phone\n",
    "        return self\n",
    "\n",
    "    def set_address(self, address):\n",
    "        self.address = address\n",
    "        return self\n",
    "\n",
    "    def set_role(self, role):\n",
    "        self.role = role\n",
    "        return self\n",
    "\n",
    "    def build(self):\n",
    "        \n",
    "        if not self.username or not self.email:\n",
    "            raise ValueError(\"Username and Email are required!\")\n",
    "        return User(\n",
    "            self.username, self.email, self.first_name,\n",
    "            self.last_name, self.age, self.phone,\n",
    "            self.address, self.role\n",
    "        )"
   ]
  },
  {
   "cell_type": "code",
   "execution_count": 34,
   "id": "f0292aa7",
   "metadata": {},
   "outputs": [
    {
     "name": "stdout",
     "output_type": "stream",
     "text": [
      "Admin(username=admin123, email=admin@example.com, name=John Doe, age=30, phone=+91-1234567890, address=Office HQ)\n"
     ]
    }
   ],
   "source": [
    "admin = (UserBuilder(\"admin123\", \"admin@example.com\")\n",
    "         .set_first_name(\"John\")\n",
    "         .set_last_name(\"Doe\")\n",
    "         .set_age(30)\n",
    "         .set_phone(\"+91-1234567890\")\n",
    "         .set_address(\"Office HQ\")\n",
    "         .set_role(\"admin\")\n",
    "         .build())\n",
    "\n",
    "print(admin)"
   ]
  },
  {
   "cell_type": "markdown",
   "id": "e1a6df08",
   "metadata": {},
   "source": [
    "- Object creation is immutable after build\n",
    "- Validation before creation"
   ]
  }
 ],
 "metadata": {
  "kernelspec": {
   "display_name": "base",
   "language": "python",
   "name": "python3"
  },
  "language_info": {
   "codemirror_mode": {
    "name": "ipython",
    "version": 3
   },
   "file_extension": ".py",
   "mimetype": "text/x-python",
   "name": "python",
   "nbconvert_exporter": "python",
   "pygments_lexer": "ipython3",
   "version": "3.12.4"
  }
 },
 "nbformat": 4,
 "nbformat_minor": 5
}
