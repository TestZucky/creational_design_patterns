{
 "cells": [
  {
   "cell_type": "markdown",
   "id": "ba729b20",
   "metadata": {},
   "source": [
    "#### OLD way without factory\n",
    "\n",
    "<b> We have two user flows: </b>\n",
    "\n",
    "- AdminUser: Can approve sellers, view sales analytics.\n",
    "- CustomerUser: Can browse products, place orders."
   ]
  },
  {
   "cell_type": "code",
   "execution_count": 10,
   "id": "e13822b4",
   "metadata": {},
   "outputs": [],
   "source": [
    "class AdminUser():\n",
    "\n",
    "    def create_user(self):\n",
    "        print(f'Admin is ready...')\n",
    "    \n",
    "    def create_dashboard(self):\n",
    "        print(f'Admin dashboard is ready...')\n",
    "\n",
    "class CustomerUser():\n",
    "\n",
    "    def create_user(self):\n",
    "        print(f'Customer is ready...')\n",
    "\n",
    "    def create_dashboard(self):\n",
    "        print(f'Customer dashboard is ready...')\n",
    "\n",
    "class SuperAdminUser():\n",
    "\n",
    "    def create_user(self):\n",
    "        print(f'Super admin is ready...')\n",
    "\n",
    "    def create_dashboard(self):\n",
    "        print(f'Super admin dashboard is ready...')"
   ]
  },
  {
   "cell_type": "code",
   "execution_count": null,
   "id": "42e828e9",
   "metadata": {},
   "outputs": [
    {
     "name": "stdout",
     "output_type": "stream",
     "text": [
      "Customer is ready...\n",
      "Customer dashboard is ready...\n"
     ]
    }
   ],
   "source": [
    "# Controller code\n",
    "\n",
    "user_role = 'customer' # we will get this based on some validation logic.\n",
    "\n",
    "if user_role == 'admin':\n",
    "    user = AdminUser()\n",
    "elif user_role == 'customer':\n",
    "    user = CustomerUser()\n",
    "else:\n",
    "    raise ValueError(f'Invalid role')\n",
    "\n",
    "user.create_user()\n",
    "user.create_dashboard()"
   ]
  },
  {
   "cell_type": "markdown",
   "id": "eb06bcd8",
   "metadata": {},
   "source": [
    "<b> Problems </b>\n",
    "\n",
    "- The object creation can be in seperate place like auth service, reporting service etc...\n",
    "- Adding new role needs to touch lot of code."
   ]
  },
  {
   "cell_type": "markdown",
   "id": "29e77fa9",
   "metadata": {},
   "source": [
    "------------------------------------------------------------------------------------"
   ]
  },
  {
   "cell_type": "markdown",
   "id": "e6feb00e",
   "metadata": {},
   "source": [
    "#### Slightly Improved way - Simple factory\n",
    "\n",
    "- All role-creation logic lives in one place.\n",
    "- If we add a new role (e.g., SellerUser), we change only the factory.\n",
    "- Controllers stay clean — no role-specific if/else clutter."
   ]
  },
  {
   "cell_type": "code",
   "execution_count": 11,
   "id": "5be9bb39",
   "metadata": {},
   "outputs": [],
   "source": [
    "class UserFactory:\n",
    "\n",
    "    @staticmethod\n",
    "    def create_user(user_role):\n",
    "        if user_role == 'admin':\n",
    "            return AdminUser()\n",
    "        elif user_role == 'customer':\n",
    "            return CustomerUser()\n",
    "        elif user_role == 'superadmin':\n",
    "            return SuperAdminUser()\n",
    "        else:\n",
    "            raise ValueError(f'Invalid role')\n",
    "\n",
    "class DashboardFactory:\n",
    "\n",
    "    @staticmethod\n",
    "    def create_dashboard(user_role):\n",
    "        if user_role == 'admin':\n",
    "            return AdminUser()\n",
    "        elif user_role == 'customer':\n",
    "            return CustomerUser()\n",
    "        elif user_role == 'superadmin':\n",
    "            return SuperAdminUser()\n",
    "        else:\n",
    "            raise ValueError(f'Invalid role')"
   ]
  },
  {
   "cell_type": "code",
   "execution_count": 12,
   "id": "d372a57d",
   "metadata": {},
   "outputs": [
    {
     "name": "stdout",
     "output_type": "stream",
     "text": [
      "Super admin is ready...\n",
      "Super admin dashboard is ready...\n"
     ]
    }
   ],
   "source": [
    "# controller code\n",
    "user_role = 'superadmin' # we will get this based on some validation logic.\n",
    "\n",
    "user = UserFactory.create_user(user_role=user_role)\n",
    "dashboard = DashboardFactory.create_dashboard(user_role=user_role)\n",
    "\n",
    "user.create_user()\n",
    "dashboard.create_dashboard()"
   ]
  },
  {
   "cell_type": "markdown",
   "id": "0d69a7ac",
   "metadata": {},
   "source": [
    "<b> Problems </b>\n",
    "\n",
    "- If we have multiple features for each role, we need to create multiple factories\n",
    "- If a new role is added we need to update each factory"
   ]
  },
  {
   "cell_type": "markdown",
   "id": "31604583",
   "metadata": {},
   "source": [
    "### Abstract Factory pattern"
   ]
  },
  {
   "cell_type": "code",
   "execution_count": 19,
   "id": "3053f03e",
   "metadata": {},
   "outputs": [],
   "source": [
    "class AdminUser:\n",
    "    \n",
    "    def create_user(self):\n",
    "        print(f'Admin is ready...')\n",
    "\n",
    "class CustomerUser:\n",
    "\n",
    "    def create_user(self):\n",
    "        print(f'Customer is ready...')\n",
    "\n",
    "class AdminDashboard:\n",
    "\n",
    "    def create_dashboard(self):\n",
    "        print(f'Admin dashbaord is ready...')\n",
    "\n",
    "\n",
    "class CustomerDashboard:\n",
    "\n",
    "    def create_dashboard(self):\n",
    "        print(f'Cusomer dashboard is ready...')\n",
    "\n",
    "class SuperAdminUser():\n",
    "\n",
    "    def create_user(self):\n",
    "        print(f'Super admin is ready...')\n",
    "\n",
    "class SuperAdminDashboard:\n",
    "\n",
    "    def create_dashboard(self):\n",
    "        print(f'Cusomer dashboard is ready...')"
   ]
  },
  {
   "cell_type": "code",
   "execution_count": 20,
   "id": "62cfa647",
   "metadata": {},
   "outputs": [],
   "source": [
    "from abc import ABC, abstractmethod\n",
    "\n",
    "class RoleFactory(ABC):\n",
    "\n",
    "    @abstractmethod\n",
    "    def create_user(self):\n",
    "        pass\n",
    "\n",
    "    @abstractmethod\n",
    "    def create_dashboard(self):\n",
    "        pass"
   ]
  },
  {
   "cell_type": "code",
   "execution_count": 21,
   "id": "a9b335dd",
   "metadata": {},
   "outputs": [],
   "source": [
    "class AdminFactory(RoleFactory):\n",
    "\n",
    "    def create_user(self):\n",
    "        return AdminUser()\n",
    "    \n",
    "    def create_dashboard(self):\n",
    "        return AdminDashboard()\n",
    "    \n",
    "class CustomerFactory(RoleFactory):\n",
    "\n",
    "    def create_user(self):\n",
    "        return CustomerUser()\n",
    "    \n",
    "    def create_dashboard(self):\n",
    "        return CustomerDashboard()\n",
    "    \n",
    "class SuperAdminFactory(RoleFactory):\n",
    "\n",
    "    def create_user(self):\n",
    "        return SuperAdminUser()\n",
    "    \n",
    "    def create_dashboard(self):\n",
    "        return SuperAdminDashboard()\n"
   ]
  },
  {
   "cell_type": "code",
   "execution_count": 22,
   "id": "f53f28fe",
   "metadata": {},
   "outputs": [],
   "source": [
    "def get_factory(user_role: str) -> RoleFactory:\n",
    "\n",
    "    factories = {\n",
    "        'admin': AdminFactory,\n",
    "        'customer': CustomerFactory,\n",
    "        'superadmin': SuperAdminFactory\n",
    "    }\n",
    "\n",
    "    if user_role not in factories:\n",
    "        raise ValueError(f'{user_role} is invalid role...')\n",
    "\n",
    "    return factories[user_role]()"
   ]
  },
  {
   "cell_type": "code",
   "execution_count": 23,
   "id": "9358ff30",
   "metadata": {},
   "outputs": [
    {
     "name": "stdout",
     "output_type": "stream",
     "text": [
      "Super admin is ready...\n",
      "Cusomer dashboard is ready...\n"
     ]
    }
   ],
   "source": [
    "# controller code\n",
    "\n",
    "user_role = 'superadmin'\n",
    "\n",
    "factory = get_factory(user_role=user_role)\n",
    "\n",
    "user = factory.create_user()\n",
    "dashboard = factory.create_dashboard()\n",
    "\n",
    "user.create_user()\n",
    "dashboard.create_dashboard()"
   ]
  }
 ],
 "metadata": {
  "kernelspec": {
   "display_name": "base",
   "language": "python",
   "name": "python3"
  },
  "language_info": {
   "codemirror_mode": {
    "name": "ipython",
    "version": 3
   },
   "file_extension": ".py",
   "mimetype": "text/x-python",
   "name": "python",
   "nbconvert_exporter": "python",
   "pygments_lexer": "ipython3",
   "version": "3.12.4"
  }
 },
 "nbformat": 4,
 "nbformat_minor": 5
}
