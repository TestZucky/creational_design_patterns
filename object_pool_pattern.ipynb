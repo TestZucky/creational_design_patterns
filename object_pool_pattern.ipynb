{
 "cells": [
  {
   "cell_type": "markdown",
   "id": "83893158",
   "metadata": {},
   "source": [
    "### Object pool pattern\n",
    "\n",
    "- Instead of creating a new object each time you need one,\n",
    "- You reuse an already created object from a pool (a container of reusable objects).\n",
    "- When you’re done, you return the object to the pool so it can be reused."
   ]
  },
  {
   "cell_type": "markdown",
   "id": "95f45d97",
   "metadata": {},
   "source": [
    "<b> Without OPP </b>"
   ]
  },
  {
   "cell_type": "code",
   "execution_count": 1,
   "id": "9d05a4d5",
   "metadata": {},
   "outputs": [
    {
     "name": "stdout",
     "output_type": "stream",
     "text": [
      "Connecting to DB...\n",
      "Connecting to DB...\n",
      "Connecting to DB...\n"
     ]
    }
   ],
   "source": [
    "class DBConnection:\n",
    "    def __init__(self):\n",
    "        print(\"Connecting to DB...\")\n",
    "        # Simulate expensive connection\n",
    "        # ...\n",
    "\n",
    "for _ in range(3):\n",
    "    conn = DBConnection()  # new object each time\n",
    "    # use conn\n",
    "    del conn\n"
   ]
  },
  {
   "cell_type": "code",
   "execution_count": 3,
   "id": "0a01962e",
   "metadata": {},
   "outputs": [
    {
     "name": "stdout",
     "output_type": "stream",
     "text": [
      "Connecting to DB...\n",
      "Connecting to DB...\n",
      "broooo\n"
     ]
    }
   ],
   "source": [
    "class ObjectPool:\n",
    "    def __init__(self, create_func, max_size=5):\n",
    "        self._create_func = create_func\n",
    "        self._pool = [] # stores unused object\n",
    "        self._max_size = max_size\n",
    "\n",
    "    def acquire(self):\n",
    "        if self._pool:\n",
    "            return self._pool.pop()\n",
    "        return self._create_func()\n",
    "\n",
    "    def release(self, obj):\n",
    "        if len(self._pool) < self._max_size:\n",
    "            self._pool.append(obj)\n",
    "\n",
    "class DBConnection:\n",
    "    def __init__(self):\n",
    "        print(\"Connecting to DB...\")\n",
    "\n",
    "# Create a pool of DB connections\n",
    "db_pool = ObjectPool(lambda: DBConnection(), max_size=2)\n",
    "\n",
    "# Acquire and release connections\n",
    "conn1 = db_pool.acquire()  # Creates new\n",
    "db_pool.release(conn1)     # Returns to pool\n",
    "conn2 = db_pool.acquire()  # Reuses conn1\n",
    "conn3 = db_pool.acquire()\n",
    "print('broooo')\n"
   ]
  }
 ],
 "metadata": {
  "kernelspec": {
   "display_name": "base",
   "language": "python",
   "name": "python3"
  },
  "language_info": {
   "codemirror_mode": {
    "name": "ipython",
    "version": 3
   },
   "file_extension": ".py",
   "mimetype": "text/x-python",
   "name": "python",
   "nbconvert_exporter": "python",
   "pygments_lexer": "ipython3",
   "version": "3.12.4"
  }
 },
 "nbformat": 4,
 "nbformat_minor": 5
}
