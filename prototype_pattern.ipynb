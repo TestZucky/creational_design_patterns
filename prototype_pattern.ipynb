{
 "cells": [
  {
   "cell_type": "markdown",
   "id": "d331437d",
   "metadata": {},
   "source": [
    "#### Prototype pattern\n",
    "\n",
    "- Instead of calling a constructor and setting up the object every time, you take an existing, fully-initialized instance and copy it (sometimes deeply).\n",
    "- This is useful when the cost of creating and configuring an object is high — e.g., a lot of setup, external API calls, expensive computations, or complex graph structures."
   ]
  },
  {
   "cell_type": "markdown",
   "id": "377db703",
   "metadata": {},
   "source": [
    "<b> Without protoype pattern </b>"
   ]
  },
  {
   "cell_type": "code",
   "execution_count": 1,
   "id": "9ee62193",
   "metadata": {},
   "outputs": [
    {
     "name": "stdout",
     "output_type": "stream",
     "text": [
      "{'name': 'E-Commerce App', 'readme_content': '# Web App\\nThis is a base Python web app template.', 'dependencies': ['Flask', 'SQLAlchemy', 'Stripe API']}\n",
      "{'name': 'Blog App', 'readme_content': '# Web App\\nThis is a base Python web app template.', 'dependencies': ['Flask', 'SQLAlchemy', 'Markdown Parser']}\n"
     ]
    }
   ],
   "source": [
    "# Without Prototype Pattern\n",
    "\n",
    "class ProjectTemplate:\n",
    "    def __init__(self, name, readme_content, dependencies):\n",
    "        self.name = name\n",
    "        self.readme_content = readme_content\n",
    "        self.dependencies = dependencies\n",
    "\n",
    "ecommerce_app = ProjectTemplate(\n",
    "    name=\"E-Commerce App\",\n",
    "    readme_content=\"# Web App\\nThis is a base Python web app template.\",\n",
    "    dependencies=[\"Flask\", \"SQLAlchemy\", \"Stripe API\"]\n",
    ")\n",
    "\n",
    "blog_app = ProjectTemplate(\n",
    "    name=\"Blog App\",\n",
    "    readme_content=\"# Web App\\nThis is a base Python web app template.\",\n",
    "    dependencies=[\"Flask\", \"SQLAlchemy\", \"Markdown Parser\"]\n",
    ")\n",
    "\n",
    "print(ecommerce_app.__dict__)\n",
    "print(blog_app.__dict__)\n"
   ]
  },
  {
   "cell_type": "markdown",
   "id": "998c3135",
   "metadata": {},
   "source": [
    "### Prototype pattern"
   ]
  },
  {
   "cell_type": "code",
   "execution_count": 2,
   "id": "97f379f0",
   "metadata": {},
   "outputs": [
    {
     "name": "stdout",
     "output_type": "stream",
     "text": [
      "{'name': 'E-Commerce App', 'readme_content': '# Web App\\nThis is a base Python web app template.', 'dependencies': ['Flask', 'SQLAlchemy', 'Stripe API']}\n",
      "{'name': 'Blog App', 'readme_content': '# Web App\\nThis is a base Python web app template.', 'dependencies': ['Flask', 'SQLAlchemy', 'Markdown Parser']}\n",
      "{'name': 'Base Web App', 'readme_content': '# Web App\\nThis is a base Python web app template.', 'dependencies': ['Flask', 'SQLAlchemy']}\n"
     ]
    }
   ],
   "source": [
    "import copy\n",
    "\n",
    "class ProjectTemplate:\n",
    "    def __init__(self, name, readme_content, dependencies):\n",
    "        self.name = name\n",
    "        self.readme_content = readme_content\n",
    "        self.dependencies = dependencies\n",
    "\n",
    "    def clone(self):\n",
    "        return copy.deepcopy(self)\n",
    "\n",
    "# Base template (configured once)\n",
    "base_web_template = ProjectTemplate(\n",
    "    name=\"Base Web App\",\n",
    "    readme_content=\"# Web App\\nThis is a base Python web app template.\",\n",
    "    dependencies=[\"Flask\", \"SQLAlchemy\"]\n",
    ")\n",
    "\n",
    "# Create variations from the prototype\n",
    "ecommerce_app = base_web_template.clone()\n",
    "ecommerce_app.name = \"E-Commerce App\"\n",
    "ecommerce_app.dependencies.append(\"Stripe API\")\n",
    "\n",
    "blog_app = base_web_template.clone()\n",
    "blog_app.name = \"Blog App\"\n",
    "blog_app.dependencies.append(\"Markdown Parser\")\n",
    "\n",
    "print(ecommerce_app.__dict__)\n",
    "print(blog_app.__dict__)\n",
    "print(base_web_template.__dict__)  # Unchanged\n"
   ]
  }
 ],
 "metadata": {
  "kernelspec": {
   "display_name": "base",
   "language": "python",
   "name": "python3"
  },
  "language_info": {
   "codemirror_mode": {
    "name": "ipython",
    "version": 3
   },
   "file_extension": ".py",
   "mimetype": "text/x-python",
   "name": "python",
   "nbconvert_exporter": "python",
   "pygments_lexer": "ipython3",
   "version": "3.12.4"
  }
 },
 "nbformat": 4,
 "nbformat_minor": 5
}
