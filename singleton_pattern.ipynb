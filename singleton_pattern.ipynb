{
 "cells": [
  {
   "cell_type": "markdown",
   "id": "169f877e",
   "metadata": {},
   "source": [
    "### Without singleton pattern\n",
    "\n",
    "- You are a BE where multiple parts of the app use: Db connection manager, logging service\n",
    "- Every time some one creates a new object."
   ]
  },
  {
   "cell_type": "code",
   "execution_count": 1,
   "id": "c1720abe",
   "metadata": {},
   "outputs": [
    {
     "name": "stdout",
     "output_type": "stream",
     "text": [
      "Logger created\n",
      "Logger created\n",
      "Logger created\n"
     ]
    }
   ],
   "source": [
    "class Logger:\n",
    "    def __init__(self):\n",
    "        print(\"Logger created\")\n",
    "\n",
    "# Multiple independent loggers\n",
    "logger1 = Logger()\n",
    "logger2 = Logger()\n",
    "logger3 = Logger()"
   ]
  },
  {
   "cell_type": "markdown",
   "id": "63e6f108",
   "metadata": {},
   "source": [
    "### Singleton Pattern\n",
    "\n",
    "- Only one instance can be created for a class in entire application's lifecycle.\n",
    "- This single instance is globally accessible."
   ]
  },
  {
   "cell_type": "code",
   "execution_count": 2,
   "id": "f55492e0",
   "metadata": {},
   "outputs": [
    {
     "name": "stdout",
     "output_type": "stream",
     "text": [
      "Creating logger instance\n",
      "True\n"
     ]
    }
   ],
   "source": [
    "class LoggerService:\n",
    "\n",
    "    _instance = None\n",
    "\n",
    "    def __new__(cls):\n",
    "\n",
    "        if cls._instance is None:\n",
    "            print('Creating logger instance')\n",
    "            cls._instance = super().__new__(cls)\n",
    "        return cls._instance\n",
    "    \n",
    "    def log(self, message):\n",
    "        print(f'[LOG] {message}')\n",
    "\n",
    "\n",
    "logger1 = LoggerService()\n",
    "logger2 = LoggerService()\n",
    "\n",
    "\n",
    "print(logger1 is logger2)"
   ]
  },
  {
   "cell_type": "markdown",
   "id": "d633de76",
   "metadata": {},
   "source": [
    "### Better approach\n",
    "\n",
    "- In Python, developers often prefer a simpler alternative to singleton: using a module-level global object."
   ]
  },
  {
   "cell_type": "code",
   "execution_count": null,
   "id": "41045c14",
   "metadata": {},
   "outputs": [],
   "source": []
  },
  {
   "cell_type": "code",
   "execution_count": null,
   "id": "7150919f",
   "metadata": {},
   "outputs": [],
   "source": [
    "# app.py\n",
    "from logger import logger\n",
    "\n",
    "logger.log(\"App started\")\n"
   ]
  }
 ],
 "metadata": {
  "kernelspec": {
   "display_name": "base",
   "language": "python",
   "name": "python3"
  },
  "language_info": {
   "codemirror_mode": {
    "name": "ipython",
    "version": 3
   },
   "file_extension": ".py",
   "mimetype": "text/x-python",
   "name": "python",
   "nbconvert_exporter": "python",
   "pygments_lexer": "ipython3",
   "version": "3.12.4"
  }
 },
 "nbformat": 4,
 "nbformat_minor": 5
}
